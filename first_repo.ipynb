{
 "cells": [
  {
   "cell_type": "code",
   "execution_count": 1,
   "id": "6bc98354",
   "metadata": {},
   "outputs": [
    {
     "name": "stdout",
     "output_type": "stream",
     "text": [
      "hello world, this is my first python code\n"
     ]
    }
   ],
   "source": [
    "print (\"hello world, this is my first python code\")"
   ]
  },
  {
   "cell_type": "markdown",
   "id": "de973825",
   "metadata": {},
   "source": [
    "GitHub desk top is beginner friendly "
   ]
  },
  {
   "cell_type": "markdown",
   "id": "a0b081f3",
   "metadata": {},
   "source": []
  }
 ],
 "metadata": {
  "kernelspec": {
   "display_name": "base",
   "language": "python",
   "name": "python3"
  },
  "language_info": {
   "codemirror_mode": {
    "name": "ipython",
    "version": 3
   },
   "file_extension": ".py",
   "mimetype": "text/x-python",
   "name": "python",
   "nbconvert_exporter": "python",
   "pygments_lexer": "ipython3",
   "version": "3.12.4"
  }
 },
 "nbformat": 4,
 "nbformat_minor": 5
}
